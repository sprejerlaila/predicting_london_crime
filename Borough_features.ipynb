{
 "cells": [
  {
   "cell_type": "code",
   "execution_count": 1,
   "metadata": {},
   "outputs": [],
   "source": [
    "import pandas as pd\n",
    "import numpy as np\n",
    "import pickle"
   ]
  },
  {
   "cell_type": "code",
   "execution_count": 2,
   "metadata": {},
   "outputs": [],
   "source": [
    "with open('pickle/crime_borough_month_prev_year_values.pkl', 'rb') as picklefile:\n",
    "    crime = pickle.load(picklefile)"
   ]
  },
  {
   "cell_type": "markdown",
   "metadata": {},
   "source": [
    "# Non year based info | Borough level"
   ]
  },
  {
   "cell_type": "code",
   "execution_count": 3,
   "metadata": {},
   "outputs": [],
   "source": [
    "borough_non_year_based = (pd\n",
    "                          .read_excel('data/london-borough-atlas.xlsx',sheet_name='NonYearBased')\n",
    "                          .rename(columns={'Area name':'borough'})\n",
    "                          .drop('New code',axis=1))"
   ]
  },
  {
   "cell_type": "code",
   "execution_count": 4,
   "metadata": {},
   "outputs": [],
   "source": [
    "# Selecting columns for borough non year based info\n",
    "\n",
    "columns_to_keep = ['borough',\"Simpson's Ethnic Diversity Index (16 ethnic groups)\"]\n",
    "# the rest of them are in the census information\n",
    "\n",
    "borough_non_year_based = borough_non_year_based[columns_to_keep]"
   ]
  },
  {
   "cell_type": "code",
   "execution_count": 5,
   "metadata": {},
   "outputs": [],
   "source": [
    "# with open('pickle/borough_non_year.pkl', 'wb') as picklefile:\n",
    "#     pickle.dump(borough_non_year_based, picklefile)"
   ]
  },
  {
   "cell_type": "markdown",
   "metadata": {},
   "source": [
    "# Year based info | Borough Level"
   ]
  },
  {
   "cell_type": "code",
   "execution_count": 6,
   "metadata": {},
   "outputs": [],
   "source": [
    "year_based = pd.read_excel('data/london-borough-atlas.xlsx',sheet_name='YearBased')"
   ]
  },
  {
   "cell_type": "markdown",
   "metadata": {},
   "source": [
    "#### Transposing the table wide to long with a new column with years"
   ]
  },
  {
   "cell_type": "code",
   "execution_count": 7,
   "metadata": {},
   "outputs": [],
   "source": [
    "variable_names = year_based.iloc[0]\n",
    "new_header = year_based.iloc[1]\n",
    "year_based = year_based[2:] \n",
    "year_based.columns = new_header "
   ]
  },
  {
   "cell_type": "code",
   "execution_count": 8,
   "metadata": {},
   "outputs": [],
   "source": [
    "metainfo=[]\n",
    "info = []\n",
    "for i in range(2,len(variable_names)-1):\n",
    "    if variable_names[i]==variable_names[i+1]:\n",
    "        template = pd.DataFrame({'New code':year_based.iloc[:,0],'Area name':year_based.iloc[:,1]})\n",
    "        template[variable_names[i]] = year_based.iloc[:,i]\n",
    "        template['Year'] = year_based.columns[i]\n",
    "        info.append(template)\n",
    "    elif (variable_names[i]!=variable_names[i+1]):\n",
    "        template = pd.DataFrame({'New code':year_based.iloc[:,0],'Area name':year_based.iloc[:,1]})\n",
    "        template[variable_names[i]] = year_based.iloc[:,i]\n",
    "        template['Year'] = year_based.columns[i]\n",
    "        info.append(template)\n",
    "        metainfo.append(info)\n",
    "        info = []\n",
    "template = pd.DataFrame({'New code':year_based.iloc[:,0],'Area name':year_based.iloc[:,1]})\n",
    "template[variable_names[i]] = year_based.iloc[:,i+1]\n",
    "template['Year'] = year_based.columns[i+1]\n",
    "info.append(template)    \n",
    "metainfo.append(info)"
   ]
  },
  {
   "cell_type": "code",
   "execution_count": 9,
   "metadata": {},
   "outputs": [],
   "source": [
    "borough_year_based = pd.concat(metainfo[0])\n",
    "for i in range(1,len(metainfo)):\n",
    "    borough_year_based = (borough_year_based\n",
    "                          .merge(pd\n",
    "                                 .concat(metainfo[i]),on=['New code','Area name','Year'],how='outer'))"
   ]
  },
  {
   "cell_type": "code",
   "execution_count": 10,
   "metadata": {},
   "outputs": [],
   "source": [
    "# Keeping only those years for which I've got crime data\n",
    "borough_year_based = borough_year_based[borough_year_based['Year']>2006].drop(['New code'],axis=1)"
   ]
  },
  {
   "cell_type": "code",
   "execution_count": 11,
   "metadata": {},
   "outputs": [],
   "source": [
    "# Creating a copy of the df with shifted years for future merge with crime data\n",
    "# (Shifting +1 the year number to use the data as a lagged feature for the modeling)\n",
    "\n",
    "shifted = borough_year_based[:]\n",
    "shifted['Year'] = shifted['Year'] + 1"
   ]
  },
  {
   "cell_type": "code",
   "execution_count": 12,
   "metadata": {},
   "outputs": [],
   "source": [
    "# Creating columns names with the name of the feature and the prefix 'prev'\n",
    "new_cols = []\n",
    "\n",
    "for i in shifted.columns[1:]:\n",
    "    new_cols.append('Prev_year_'+i)\n",
    "\n",
    "new_cols = ['borough'] + new_cols\n",
    "shifted.columns = new_cols\n",
    "shifted = shifted.rename(columns={'Prev_year_Year':'year'})"
   ]
  },
  {
   "cell_type": "code",
   "execution_count": 13,
   "metadata": {},
   "outputs": [],
   "source": [
    "# Deleting columns with only one year of information\n",
    "columns_to_keep = []\n",
    "for col in shifted:\n",
    "    if shifted[col].isna().sum()<72:\n",
    "        columns_to_keep.append(col)\n",
    "        \n",
    "shifted = shifted[columns_to_keep]"
   ]
  },
  {
   "cell_type": "code",
   "execution_count": 14,
   "metadata": {},
   "outputs": [],
   "source": [
    "for col in shifted.columns[1:]:\n",
    "    shifted[col]= shifted[col].astype('float')"
   ]
  },
  {
   "cell_type": "code",
   "execution_count": 15,
   "metadata": {},
   "outputs": [],
   "source": [
    "with open('pickle/borough_year.pkl', 'wb') as picklefile:\n",
    "    pickle.dump(shifted, picklefile)"
   ]
  },
  {
   "cell_type": "code",
   "execution_count": 16,
   "metadata": {},
   "outputs": [],
   "source": [
    "# Used the job_density to fill the fields in the borough file.\n",
    "#job_density = pd.read_csv('https://files.datapress.com/london/dataset/jobs-and-job-density-borough/2018-02-27T13:57:27.18/Jobs%20density.csv')"
   ]
  },
  {
   "cell_type": "code",
   "execution_count": null,
   "metadata": {},
   "outputs": [],
   "source": []
  }
 ],
 "metadata": {
  "kernelspec": {
   "display_name": "Python 3",
   "language": "python",
   "name": "python3"
  },
  "language_info": {
   "codemirror_mode": {
    "name": "ipython",
    "version": 3
   },
   "file_extension": ".py",
   "mimetype": "text/x-python",
   "name": "python",
   "nbconvert_exporter": "python",
   "pygments_lexer": "ipython3",
   "version": "3.6.6"
  }
 },
 "nbformat": 4,
 "nbformat_minor": 2
}
