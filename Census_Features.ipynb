{
 "cells": [
  {
   "cell_type": "code",
   "execution_count": 1,
   "metadata": {},
   "outputs": [],
   "source": [
    "import pandas as pd\n",
    "import numpy as np\n",
    "import pickle\n"
   ]
  },
  {
   "cell_type": "markdown",
   "metadata": {},
   "source": [
    "## LSOA level"
   ]
  },
  {
   "cell_type": "markdown",
   "metadata": {},
   "source": [
    "#### Census Data"
   ]
  },
  {
   "cell_type": "code",
   "execution_count": 2,
   "metadata": {},
   "outputs": [],
   "source": [
    "census_all = pd.read_excel('data/lsoa/lsoa-data.xls',sheet='censusdata')"
   ]
  },
  {
   "cell_type": "code",
   "execution_count": 3,
   "metadata": {},
   "outputs": [],
   "source": [
    "census = (census_all[['Codes','Population','Area (Hectares)','Median Price (£)','Sales','Employment Rate','Unemployment Rate','Mean Annual Household Income estimate (£)']]\n",
    "          .rename(columns={'Codes':'lsoa_code','Area (Hectares)':'Area','Median Price (£)':'Median Price','Mean Annual Household Income estimate (£)':'Mean Household Income'}))"
   ]
  },
  {
   "cell_type": "code",
   "execution_count": 4,
   "metadata": {},
   "outputs": [],
   "source": [
    "for col in census.columns[2:]:\n",
    "    census[col] = census[col].astype('float')"
   ]
  },
  {
   "cell_type": "code",
   "execution_count": 5,
   "metadata": {},
   "outputs": [],
   "source": [
    "# with open('pickle/census_data.pkl', 'wb') as picklefile:\n",
    "#     pickle.dump(census,picklefile)"
   ]
  },
  {
   "cell_type": "markdown",
   "metadata": {},
   "source": [
    "#### Index of Deprivation"
   ]
  },
  {
   "cell_type": "code",
   "execution_count": 8,
   "metadata": {},
   "outputs": [],
   "source": [
    "imd2010 = (pd.read_excel('data/lsoa/indices-of-deprivation-2010.xls', sheet_name='IMD 2010')\n",
    "           .rename(columns={'LSOA':'lsoa_code'})\n",
    "           .drop(['Ward code','Ward Name','LA CODE','LA NAME','GOR CODE','GOR NAME'],axis=1))\n"
   ]
  },
  {
   "cell_type": "code",
   "execution_count": 9,
   "metadata": {},
   "outputs": [],
   "source": [
    "for col in imd2010.columns[1:]:\n",
    "    imd2010[col] = imd2010[col].astype('float')"
   ]
  },
  {
   "cell_type": "code",
   "execution_count": 10,
   "metadata": {},
   "outputs": [],
   "source": [
    "# with open('pickle/imd_lsoa_2010.pkl', 'wb') as picklefile:\n",
    "#     pickle.dump(imd2010,picklefile)"
   ]
  },
  {
   "cell_type": "markdown",
   "metadata": {},
   "source": [
    "## Borough Level"
   ]
  },
  {
   "cell_type": "code",
   "execution_count": 12,
   "metadata": {},
   "outputs": [],
   "source": [
    "imd2010 = (pd.read_excel('data/lsoa/indices-of-deprivation-2010.xls', sheet_name='IMD 2010')\n",
    "           .rename(columns={'LSOA':'lsoa_code'}))"
   ]
  },
  {
   "cell_type": "code",
   "execution_count": 13,
   "metadata": {},
   "outputs": [],
   "source": [
    "with open('pickle/census_data.pkl', 'rb') as picklefile:\n",
    "    census = pickle.load(picklefile)\n",
    "\n",
    "pop = census[['lsoa_code','Population']]"
   ]
  },
  {
   "cell_type": "code",
   "execution_count": 14,
   "metadata": {},
   "outputs": [],
   "source": [
    "imd2010 = (imd2010\n",
    "           .merge(pop, on='lsoa_code')\n",
    "           .rename(columns={'LA NAME':'borough'})\n",
    "           .drop(['Ward code', 'Ward Name', 'LA CODE', 'GOR CODE', 'GOR NAME','lsoa_code'],axis=1))"
   ]
  },
  {
   "cell_type": "code",
   "execution_count": 15,
   "metadata": {},
   "outputs": [],
   "source": [
    "# Creating a weighted mean function to average LSOA data into borough level\n",
    "wm = lambda x: np.average(x, weights=imd2010.loc[x.index, \"Population\"])\n",
    "\n"
   ]
  },
  {
   "cell_type": "code",
   "execution_count": 16,
   "metadata": {},
   "outputs": [],
   "source": [
    "imd2010_borough = imd2010.groupby(['borough']).agg(wm)"
   ]
  },
  {
   "cell_type": "code",
   "execution_count": 17,
   "metadata": {},
   "outputs": [],
   "source": [
    "# with open('pickle/imd_borough_2010.pkl', 'wb') as picklefile:\n",
    "#     pickle.dump(imd2010_borough,picklefile)"
   ]
  },
  {
   "cell_type": "code",
   "execution_count": 18,
   "metadata": {},
   "outputs": [],
   "source": [
    "census_borough = pd.read_excel('data/borough/london-borough-profiles.xlsx', sheet_name='Data')"
   ]
  },
  {
   "cell_type": "code",
   "execution_count": 20,
   "metadata": {},
   "outputs": [],
   "source": [
    "# with open('pickle/census_borough.pkl', 'wb') as picklefile:\n",
    "#     pickle.dump(imd2010_borough,picklefile)"
   ]
  },
  {
   "cell_type": "code",
   "execution_count": null,
   "metadata": {},
   "outputs": [],
   "source": []
  }
 ],
 "metadata": {
  "kernelspec": {
   "display_name": "Python 3",
   "language": "python",
   "name": "python3"
  },
  "language_info": {
   "codemirror_mode": {
    "name": "ipython",
    "version": 3
   },
   "file_extension": ".py",
   "mimetype": "text/x-python",
   "name": "python",
   "nbconvert_exporter": "python",
   "pygments_lexer": "ipython3",
   "version": "3.6.6"
  }
 },
 "nbformat": 4,
 "nbformat_minor": 2
}
