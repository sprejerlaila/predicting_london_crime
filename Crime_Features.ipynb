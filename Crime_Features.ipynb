{
 "cells": [
  {
   "cell_type": "markdown",
   "metadata": {},
   "source": [
    "# Crime data - feature engineering"
   ]
  },
  {
   "cell_type": "code",
   "execution_count": 2,
   "metadata": {},
   "outputs": [],
   "source": [
    "import pandas as pd\n",
    "import numpy as np\n",
    "import pickle\n",
    "\n",
    "import matplotlib.pyplot as plt\n",
    "import seaborn as sns\n",
    "plt.style.use('fivethirtyeight')\n",
    "\n",
    "%matplotlib inline\n",
    "\n",
    "from sklearn.linear_model import LogisticRegression\n",
    "from sklearn.model_selection import train_test_split\n",
    "from sklearn.metrics import f1_score\n",
    "from sklearn.model_selection import cross_val_score\n",
    "\n",
    "from sklearn.naive_bayes import GaussianNB\n",
    "from sklearn.svm import SVC\n",
    "from sklearn.tree import DecisionTreeClassifier\n",
    "from sklearn.ensemble import RandomForestClassifier\n",
    "\n",
    "\n",
    "import datetime"
   ]
  },
  {
   "cell_type": "markdown",
   "metadata": {},
   "source": [
    "## LSOA level data"
   ]
  },
  {
   "cell_type": "code",
   "execution_count": 3,
   "metadata": {},
   "outputs": [],
   "source": [
    "crime = pd.read_csv('data/london_crime_by_lsoa.csv')"
   ]
  },
  {
   "cell_type": "code",
   "execution_count": 4,
   "metadata": {},
   "outputs": [],
   "source": [
    "crime['date'] = crime['year'].map(str) + \"-\" + crime['month'].map(str)\n",
    "\n",
    "# create target variable 'is_commited': whether each type of crime is commited or not for each LSOA & Month\n",
    "crime['is_commited'] = crime['value'].apply(lambda x: 0 if x == 0 else 1)\n",
    "\n",
    "crime['day'] = 1\n",
    "crime['datetime'] = pd.to_datetime(crime[['year','month','day']])\n",
    "\n",
    "crime = crime.sort_values(by=['lsoa_code','minor_category','datetime']).reset_index()"
   ]
  },
  {
   "cell_type": "code",
   "execution_count": 5,
   "metadata": {},
   "outputs": [
    {
     "data": {
      "text/html": [
       "<div>\n",
       "<style scoped>\n",
       "    .dataframe tbody tr th:only-of-type {\n",
       "        vertical-align: middle;\n",
       "    }\n",
       "\n",
       "    .dataframe tbody tr th {\n",
       "        vertical-align: top;\n",
       "    }\n",
       "\n",
       "    .dataframe thead th {\n",
       "        text-align: right;\n",
       "    }\n",
       "</style>\n",
       "<table border=\"1\" class=\"dataframe\">\n",
       "  <thead>\n",
       "    <tr style=\"text-align: right;\">\n",
       "      <th></th>\n",
       "      <th>index</th>\n",
       "      <th>lsoa_code</th>\n",
       "      <th>borough</th>\n",
       "      <th>major_category</th>\n",
       "      <th>minor_category</th>\n",
       "      <th>value</th>\n",
       "      <th>year</th>\n",
       "      <th>month</th>\n",
       "      <th>date</th>\n",
       "      <th>is_commited</th>\n",
       "      <th>day</th>\n",
       "      <th>datetime</th>\n",
       "    </tr>\n",
       "  </thead>\n",
       "  <tbody>\n",
       "    <tr>\n",
       "      <th>0</th>\n",
       "      <td>3150451</td>\n",
       "      <td>E01000001</td>\n",
       "      <td>City of London</td>\n",
       "      <td>Burglary</td>\n",
       "      <td>Burglary in Other Buildings</td>\n",
       "      <td>0</td>\n",
       "      <td>2008</td>\n",
       "      <td>1</td>\n",
       "      <td>2008-1</td>\n",
       "      <td>0</td>\n",
       "      <td>1</td>\n",
       "      <td>2008-01-01</td>\n",
       "    </tr>\n",
       "    <tr>\n",
       "      <th>1</th>\n",
       "      <td>4046291</td>\n",
       "      <td>E01000001</td>\n",
       "      <td>City of London</td>\n",
       "      <td>Burglary</td>\n",
       "      <td>Burglary in Other Buildings</td>\n",
       "      <td>0</td>\n",
       "      <td>2008</td>\n",
       "      <td>2</td>\n",
       "      <td>2008-2</td>\n",
       "      <td>0</td>\n",
       "      <td>1</td>\n",
       "      <td>2008-02-01</td>\n",
       "    </tr>\n",
       "    <tr>\n",
       "      <th>2</th>\n",
       "      <td>7496239</td>\n",
       "      <td>E01000001</td>\n",
       "      <td>City of London</td>\n",
       "      <td>Burglary</td>\n",
       "      <td>Burglary in Other Buildings</td>\n",
       "      <td>0</td>\n",
       "      <td>2008</td>\n",
       "      <td>3</td>\n",
       "      <td>2008-3</td>\n",
       "      <td>0</td>\n",
       "      <td>1</td>\n",
       "      <td>2008-03-01</td>\n",
       "    </tr>\n",
       "    <tr>\n",
       "      <th>3</th>\n",
       "      <td>12990257</td>\n",
       "      <td>E01000001</td>\n",
       "      <td>City of London</td>\n",
       "      <td>Burglary</td>\n",
       "      <td>Burglary in Other Buildings</td>\n",
       "      <td>0</td>\n",
       "      <td>2008</td>\n",
       "      <td>4</td>\n",
       "      <td>2008-4</td>\n",
       "      <td>0</td>\n",
       "      <td>1</td>\n",
       "      <td>2008-04-01</td>\n",
       "    </tr>\n",
       "    <tr>\n",
       "      <th>4</th>\n",
       "      <td>5751091</td>\n",
       "      <td>E01000001</td>\n",
       "      <td>City of London</td>\n",
       "      <td>Burglary</td>\n",
       "      <td>Burglary in Other Buildings</td>\n",
       "      <td>0</td>\n",
       "      <td>2008</td>\n",
       "      <td>5</td>\n",
       "      <td>2008-5</td>\n",
       "      <td>0</td>\n",
       "      <td>1</td>\n",
       "      <td>2008-05-01</td>\n",
       "    </tr>\n",
       "  </tbody>\n",
       "</table>\n",
       "</div>"
      ],
      "text/plain": [
       "      index  lsoa_code         borough major_category  \\\n",
       "0   3150451  E01000001  City of London       Burglary   \n",
       "1   4046291  E01000001  City of London       Burglary   \n",
       "2   7496239  E01000001  City of London       Burglary   \n",
       "3  12990257  E01000001  City of London       Burglary   \n",
       "4   5751091  E01000001  City of London       Burglary   \n",
       "\n",
       "                minor_category  value  year  month    date  is_commited  day  \\\n",
       "0  Burglary in Other Buildings      0  2008      1  2008-1            0    1   \n",
       "1  Burglary in Other Buildings      0  2008      2  2008-2            0    1   \n",
       "2  Burglary in Other Buildings      0  2008      3  2008-3            0    1   \n",
       "3  Burglary in Other Buildings      0  2008      4  2008-4            0    1   \n",
       "4  Burglary in Other Buildings      0  2008      5  2008-5            0    1   \n",
       "\n",
       "    datetime  \n",
       "0 2008-01-01  \n",
       "1 2008-02-01  \n",
       "2 2008-03-01  \n",
       "3 2008-04-01  \n",
       "4 2008-05-01  "
      ]
     },
     "execution_count": 5,
     "metadata": {},
     "output_type": "execute_result"
    }
   ],
   "source": [
    "crime.head()"
   ]
  },
  {
   "cell_type": "code",
   "execution_count": 6,
   "metadata": {},
   "outputs": [
    {
     "data": {
      "text/plain": [
       "array([2008, 2009, 2010, 2011, 2012, 2013, 2014, 2015, 2016])"
      ]
     },
     "execution_count": 6,
     "metadata": {},
     "output_type": "execute_result"
    }
   ],
   "source": [
    "crime['year'].sort_values().unique()"
   ]
  },
  {
   "cell_type": "code",
   "execution_count": 7,
   "metadata": {},
   "outputs": [
    {
     "data": {
      "text/plain": [
       "minor_category\n",
       "Assault with Injury                       451001\n",
       "Burglary in Other Buildings               263011\n",
       "Burglary in a Dwelling                    491282\n",
       "Business Property                          21295\n",
       "Common Assault                            413690\n",
       "Counted per Victim                          3840\n",
       "Criminal Damage To Dwelling               154116\n",
       "Criminal Damage To Motor Vehicle          265463\n",
       "Criminal Damage To Other Building          66003\n",
       "Drug Trafficking                           35819\n",
       "Going Equipped                              5530\n",
       "Handling Stolen Goods                      16100\n",
       "Harassment                                458124\n",
       "Motor Vehicle Interference & Tampering     56224\n",
       "Murder                                       949\n",
       "Offensive Weapon                           37983\n",
       "Other Criminal Damage                     145356\n",
       "Other Drugs                                 2998\n",
       "Other Fraud & Forgery                       1485\n",
       "Other Notifiable                          100819\n",
       "Other Sexual                                1005\n",
       "Other Theft                               980085\n",
       "Other Theft Person                        308842\n",
       "Other violence                             70778\n",
       "Personal Property                         237578\n",
       "Possession Of Drugs                       431948\n",
       "Rape                                         268\n",
       "Theft From Motor Vehicle                  569956\n",
       "Theft From Shops                          345142\n",
       "Theft/Taking Of Motor Vehicle             216538\n",
       "Theft/Taking of Pedal Cycle               168974\n",
       "Wounding/GBH                              125556\n",
       "Name: value, dtype: int64"
      ]
     },
     "execution_count": 7,
     "metadata": {},
     "output_type": "execute_result"
    }
   ],
   "source": [
    "# Looking for null categories:\n",
    "crime.groupby('minor_category')['value'].sum()"
   ]
  },
  {
   "cell_type": "code",
   "execution_count": 12,
   "metadata": {},
   "outputs": [
    {
     "data": {
      "text/plain": [
       "minor_category\n",
       "Assault with Injury                       234177\n",
       "Burglary in Other Buildings               140561\n",
       "Burglary in a Dwelling                    254880\n",
       "Business Property                           9490\n",
       "Common Assault                            254570\n",
       "Counted per Victim                             0\n",
       "Criminal Damage To Dwelling                69832\n",
       "Criminal Damage To Motor Vehicle          124748\n",
       "Criminal Damage To Other Building          33237\n",
       "Drug Trafficking                           18732\n",
       "Going Equipped                              2906\n",
       "Handling Stolen Goods                       7909\n",
       "Harassment                                290840\n",
       "Motor Vehicle Interference & Tampering     39259\n",
       "Murder                                       482\n",
       "Offensive Weapon                           19282\n",
       "Other Criminal Damage                      76873\n",
       "Other Drugs                                 1601\n",
       "Other Fraud & Forgery                          0\n",
       "Other Notifiable                           61655\n",
       "Other Sexual                                   0\n",
       "Other Theft                               567768\n",
       "Other Theft Person                        191203\n",
       "Other violence                             42125\n",
       "Personal Property                         121168\n",
       "Possession Of Drugs                       204855\n",
       "Rape                                           0\n",
       "Theft From Motor Vehicle                  285217\n",
       "Theft From Shops                          202650\n",
       "Theft/Taking Of Motor Vehicle             112708\n",
       "Theft/Taking of Pedal Cycle                91747\n",
       "Wounding/GBH                               91189\n",
       "Name: value, dtype: int64"
      ]
     },
     "execution_count": 12,
     "metadata": {},
     "output_type": "execute_result"
    }
   ],
   "source": [
    "crime[crime['year']>2011].groupby('minor_category')['value'].sum()\n",
    "\n",
    "# From 2012 there are several null categories due to reclassification. Also, census data is from 2011. "
   ]
  },
  {
   "cell_type": "markdown",
   "metadata": {},
   "source": [
    "#### Getting previous crime and target value"
   ]
  },
  {
   "cell_type": "code",
   "execution_count": 13,
   "metadata": {},
   "outputs": [],
   "source": [
    "prev = (crime[['lsoa_code','minor_category','datetime','value','is_commited']]\n",
    "        .sort_values(by=['lsoa_code','minor_category','datetime']))\n",
    "\n",
    "prev[[\"prev_date\", \"prev_value\",'prev_is_commited']] = (prev\n",
    "                                                        .groupby(['lsoa_code', \"minor_category\"])[\"datetime\", \"value\",'is_commited']\n",
    "                                                        .transform(lambda grp: grp.shift(1)))\n",
    "\n",
    "crime = (crime.merge(prev[['lsoa_code','minor_category','datetime','prev_value','prev_is_commited']],on=['lsoa_code','minor_category','datetime']))"
   ]
  },
  {
   "cell_type": "markdown",
   "metadata": {},
   "source": [
    "#### Getting previous year crime and target value for LSOA & Crime type"
   ]
  },
  {
   "cell_type": "code",
   "execution_count": 14,
   "metadata": {},
   "outputs": [],
   "source": [
    "cumsum = (crime[['lsoa_code','minor_category','value']]\n",
    "          .groupby(['lsoa_code','minor_category'])\n",
    "          .rolling(min_periods=12, window=12)\n",
    "          .sum()\n",
    "          .reset_index())\n"
   ]
  },
  {
   "cell_type": "code",
   "execution_count": 15,
   "metadata": {},
   "outputs": [],
   "source": [
    "crime['prev_year_crime_sum'] = cumsum[['value']]\n",
    "crime['prev_year_crime_sum'] = crime['prev_year_crime_sum'] - crime['value']"
   ]
  },
  {
   "cell_type": "markdown",
   "metadata": {},
   "source": [
    "#### Getting previous year crime and target value for LSOA"
   ]
  },
  {
   "cell_type": "code",
   "execution_count": 16,
   "metadata": {},
   "outputs": [],
   "source": [
    "lsoa = (crime\n",
    "        .groupby(['lsoa_code','datetime'])['value']\n",
    "        .sum()\n",
    "        .reset_index()\n",
    "        .sort_values(by=['lsoa_code','datetime']))\n",
    "\n",
    "cumsum_lsoa = (lsoa[['lsoa_code','value']]\n",
    "               .groupby(['lsoa_code'])\n",
    "               .rolling(min_periods=12, window=12)\n",
    "               .sum()\n",
    "               .reset_index())\n",
    "\n",
    "lsoa['prev_year_lsoa_sum'] = cumsum_lsoa['value']\n",
    "lsoa['prev_year_lsoa_sum'] = lsoa['prev_year_lsoa_sum'] - lsoa['value']\n",
    "\n",
    "crime = crime.merge(lsoa[['lsoa_code','datetime','prev_year_lsoa_sum']],on=['lsoa_code','datetime'])"
   ]
  },
  {
   "cell_type": "markdown",
   "metadata": {},
   "source": [
    "#### Getting previous year crime and target value for crime type"
   ]
  },
  {
   "cell_type": "code",
   "execution_count": 17,
   "metadata": {},
   "outputs": [],
   "source": [
    "minor_category = (crime\n",
    "                  .groupby(['minor_category','datetime'])['value']\n",
    "                  .sum()\n",
    "                  .reset_index()\n",
    "                  .sort_values(by=['minor_category','datetime']))"
   ]
  },
  {
   "cell_type": "code",
   "execution_count": 18,
   "metadata": {},
   "outputs": [],
   "source": [
    "cumsum_minorc = (minor_category[['minor_category','value']]\n",
    "                 .groupby(['minor_category'])\n",
    "                 .rolling(min_periods=12, window=12)\n",
    "                 .sum()\n",
    "                 .reset_index())"
   ]
  },
  {
   "cell_type": "code",
   "execution_count": 19,
   "metadata": {},
   "outputs": [],
   "source": [
    "minor_category['prev_year_category_sum'] = cumsum_minorc['value']\n",
    "minor_category['prev_year_category_sum'] = minor_category['prev_year_category_sum'] - lsoa['value']"
   ]
  },
  {
   "cell_type": "code",
   "execution_count": 20,
   "metadata": {},
   "outputs": [],
   "source": [
    "crime = (crime\n",
    "         .merge(minor_category[['minor_category','datetime','prev_year_category_sum']], on=['minor_category','datetime']))"
   ]
  },
  {
   "cell_type": "code",
   "execution_count": 21,
   "metadata": {},
   "outputs": [],
   "source": [
    "# with open('crime_lsoa_month_prev_year_values.pkl', 'wb') as picklefile:\n",
    "#     pickle.dump(crime, picklefile)\n",
    "\n",
    "# with open('crime_lsoa_month_prev_year_values.pkl', 'rb') as picklefile:\n",
    "#     crime = pickle.load(picklefile)"
   ]
  },
  {
   "cell_type": "markdown",
   "metadata": {},
   "source": [
    "## Borough level data"
   ]
  },
  {
   "cell_type": "code",
   "execution_count": 23,
   "metadata": {},
   "outputs": [],
   "source": [
    "crime = pd.read_csv('data/london_crime_by_lsoa.csv')\n",
    "\n",
    "crime['date'] = crime['year'].map(str) + \"-\" + crime['month'].map(str)\n",
    "\n",
    "crime['day'] = 1\n",
    "crime['datetime'] = pd.to_datetime(crime[['year','month','day']])\n",
    "\n"
   ]
  },
  {
   "cell_type": "code",
   "execution_count": 24,
   "metadata": {},
   "outputs": [],
   "source": [
    "crime_borough = (crime\n",
    "                 .groupby(['borough','minor_category','year','month','datetime'])['value']\n",
    "                 .sum()\n",
    "                 .reset_index())\n",
    "\n",
    "crime_borough['is_commited'] = crime_borough['value'].apply(lambda x: 0 if x == 0 else 1)"
   ]
  },
  {
   "cell_type": "markdown",
   "metadata": {},
   "source": [
    "#### Getting previous crime and target value for last year"
   ]
  },
  {
   "cell_type": "code",
   "execution_count": 25,
   "metadata": {},
   "outputs": [],
   "source": [
    "crime_borough = crime_borough.sort_values(by=['borough','minor_category','datetime'])\n",
    "\n",
    "cumsum = (crime_borough[['borough','minor_category','value']]\n",
    "          .groupby(['borough','minor_category'])\n",
    "          .rolling(min_periods=12, window=12)\n",
    "          .sum()\n",
    "          .reset_index())\n",
    "\n",
    "crime_borough['prev_year_crime_sum'] = cumsum[['value']]\n",
    "\n",
    "crime_borough['prev_year_crime_sum'] = crime_borough['prev_year_crime_sum'] - crime['value']"
   ]
  },
  {
   "cell_type": "markdown",
   "metadata": {},
   "source": [
    "#### Getting previous year crime and target value for borough"
   ]
  },
  {
   "cell_type": "code",
   "execution_count": 27,
   "metadata": {},
   "outputs": [],
   "source": [
    "borough = (crime_borough\n",
    "           .groupby(['borough','datetime'])['value']\n",
    "           .sum()\n",
    "           .reset_index()\n",
    "           .sort_values(by=['borough','datetime']))\n",
    "\n",
    "cumsum_borough = (borough[['borough','value']]\n",
    "                  .groupby(['borough'])\n",
    "                  .rolling(min_periods=12, window=12)\n",
    "                  .sum()\n",
    "                  .reset_index())\n",
    "\n",
    "borough['prev_year_borough_sum'] = cumsum_borough['value']\n",
    "borough['prev_year_borough_sum'] = borough['prev_year_borough_sum'] - borough['value']\n",
    "\n",
    "crime_borough = crime_borough.merge(borough[['borough','datetime','prev_year_borough_sum']],on=['borough','datetime'])\n"
   ]
  },
  {
   "cell_type": "markdown",
   "metadata": {},
   "source": [
    "#### Getting previous value for crime type for last 12 months"
   ]
  },
  {
   "cell_type": "code",
   "execution_count": 29,
   "metadata": {},
   "outputs": [],
   "source": [
    "minor_category = (crime_borough\n",
    "                  .groupby(['minor_category','datetime'])['value']\n",
    "                  .sum()\n",
    "                  .reset_index()\n",
    "                  .sort_values(by=['minor_category','datetime']))\n",
    "\n",
    "cumsum_minorc = (minor_category[['minor_category','value']]\n",
    "                 .groupby(['minor_category'])\n",
    "                 .rolling(min_periods=12, window=12)\n",
    "                 .sum()\n",
    "                 .reset_index())\n",
    "\n",
    "minor_category['prev_year_category_sum'] = cumsum_minorc['value']\n",
    "minor_category['prev_year_category_sum'] = minor_category['prev_year_category_sum'] - minor_category['value']\n",
    "\n",
    "crime_borough = crime_borough.merge(minor_category[['minor_category','datetime','prev_year_category_sum']],on=['minor_category','datetime'])"
   ]
  },
  {
   "cell_type": "markdown",
   "metadata": {},
   "source": [
    "#### Getting previous crime and target value"
   ]
  },
  {
   "cell_type": "code",
   "execution_count": 30,
   "metadata": {},
   "outputs": [],
   "source": [
    "month = (crime_borough[['borough','minor_category','datetime','value','is_commited']]\n",
    "         .sort_values(by=['borough','minor_category','datetime']))\n",
    "\n",
    "month[[\"prev_date\", \"prev_value\",'prev_is_commited']] = (month\n",
    "                                                         .groupby(['borough', \"minor_category\"])[\"datetime\", \"value\",'is_commited']\n",
    "                                                         .transform(lambda grp: grp.shift(1)))\n",
    "\n",
    "crime_borough = crime_borough.merge(month[['borough','minor_category','datetime','prev_value','prev_is_commited']],on=['borough','minor_category','datetime'])"
   ]
  },
  {
   "cell_type": "code",
   "execution_count": 32,
   "metadata": {},
   "outputs": [],
   "source": [
    "# with open('pickle/crime_borough_month_prev_year_values.pkl', 'wb') as picklefile:\n",
    "#     pickle.dump(crime, picklefile)\n",
    "\n"
   ]
  },
  {
   "cell_type": "code",
   "execution_count": null,
   "metadata": {},
   "outputs": [],
   "source": []
  }
 ],
 "metadata": {
  "kernelspec": {
   "display_name": "Python 3",
   "language": "python",
   "name": "python3"
  },
  "language_info": {
   "codemirror_mode": {
    "name": "ipython",
    "version": 3
   },
   "file_extension": ".py",
   "mimetype": "text/x-python",
   "name": "python",
   "nbconvert_exporter": "python",
   "pygments_lexer": "ipython3",
   "version": "3.6.6"
  }
 },
 "nbformat": 4,
 "nbformat_minor": 2
}
